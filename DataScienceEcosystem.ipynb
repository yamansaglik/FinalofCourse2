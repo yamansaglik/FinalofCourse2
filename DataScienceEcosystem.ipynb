{
 "cells": [
  {
   "cell_type": "markdown",
   "id": "be824898",
   "metadata": {},
   "source": [
    "# Data Science Tools and Ecosystem"
   ]
  },
  {
   "cell_type": "markdown",
   "id": "a44421aa",
   "metadata": {},
   "source": [
    "###  __In this notebook, Data Science Tools and Ecosystem are summarized__"
   ]
  },
  {
   "cell_type": "markdown",
   "id": "802f5f63",
   "metadata": {},
   "source": [
    "## __Objectives:__\n",
    "* Learning Data Science Tools\n",
    "* Learning Git and Github\n",
    "* Learning Jupyter"
   ]
  },
  {
   "cell_type": "markdown",
   "id": "e1b97305",
   "metadata": {},
   "source": [
    "#### Some of the popular languages that Data Scientists use are:\n",
    "\n",
    "* Python \n",
    "* R\n",
    "* Scala"
   ]
  },
  {
   "cell_type": "markdown",
   "id": "4567d7ed",
   "metadata": {},
   "source": [
    "#### Some of the commonly used libraries used by Data Scientists include:\n",
    "\n",
    "* MatPlotLib\n",
    "* Seaborn\n",
    "* Scikit-learn"
   ]
  },
  {
   "cell_type": "markdown",
   "id": "00430e11",
   "metadata": {},
   "source": [
    "|Data Science Tools|\n",
    "|------------------|\n",
    "|JupyterNotebook   |\n",
    "|VS Code Studio    |\n",
    "|R Studio          |\n",
    "\n"
   ]
  },
  {
   "cell_type": "markdown",
   "id": "2978888e",
   "metadata": {},
   "source": [
    "### Below are a few examples of evaluating arithmetic expressions in Python\n"
   ]
  },
  {
   "cell_type": "code",
   "execution_count": 1,
   "id": "86ccbef9",
   "metadata": {
    "scrolled": true
   },
   "outputs": [
    {
     "data": {
      "text/plain": [
       "17"
      ]
     },
     "execution_count": 1,
     "metadata": {},
     "output_type": "execute_result"
    }
   ],
   "source": [
    "# This is a simple arithmetic expression to multiply then add integers\n",
    "(3*4)+5"
   ]
  },
  {
   "cell_type": "code",
   "execution_count": 2,
   "id": "40a930ec",
   "metadata": {
    "scrolled": true
   },
   "outputs": [
    {
     "name": "stdout",
     "output_type": "stream",
     "text": [
      "200 minutes equal to =  3.3333333333333335 hrs\n"
     ]
    }
   ],
   "source": [
    "x = 200/60\n",
    "print(\"200 minutes equal to = \",x,\"hrs\")"
   ]
  },
  {
   "cell_type": "markdown",
   "id": "9bbf07f9",
   "metadata": {},
   "source": [
    "## Author\n",
    "Halil Yaman Sağlık"
   ]
  },
  {
   "cell_type": "code",
   "execution_count": null,
   "id": "a110ee38",
   "metadata": {},
   "outputs": [],
   "source": []
  }
 ],
 "metadata": {
  "kernelspec": {
   "display_name": "Python 3 (ipykernel)",
   "language": "python",
   "name": "python3"
  },
  "language_info": {
   "codemirror_mode": {
    "name": "ipython",
    "version": 3
   },
   "file_extension": ".py",
   "mimetype": "text/x-python",
   "name": "python",
   "nbconvert_exporter": "python",
   "pygments_lexer": "ipython3",
   "version": "3.11.3"
  }
 },
 "nbformat": 4,
 "nbformat_minor": 5
}
